{
 "cells": [
  {
   "cell_type": "code",
   "execution_count": 1,
   "metadata": {},
   "outputs": [
    {
     "name": "stdout",
     "output_type": "stream",
     "text": [
      "Hello World\n"
     ]
    }
   ],
   "source": [
    "print(\"Hello World\")\n"
   ]
  },
  {
   "cell_type": "code",
   "execution_count": 7,
   "metadata": {},
   "outputs": [
    {
     "data": {
      "image/png": "[encoded data removed]",
      "text/plain": [
       "<Figure size 432x288 with 1 Axes>"
      ]
     },
     "metadata": {
      "needs_background": "light"
     },
     "output_type": "display_data"
    }
   ],
   "source": [
    "day = [1,2,3,4]\n",
    "temp = [10,20,30,40]\n",
    "\n",
    "import matplotlib.pyplot as plt\n",
    "plt.plot(day, temp)\n",
    "plt.xlabel('day')\n",
    "plt.ylabel('temp')\n",
    "plt.grid(True)"
   ]
  },
  {
   "cell_type": "code",
   "execution_count": 33,
   "metadata": {},
   "outputs": [
    {
     "name": "stdout",
     "output_type": "stream",
     "text": [
      "82\n",
      "81\n",
      "44\n",
      "94\n",
      "34\n"
     ]
    }
   ],
   "source": [
    "import csv\n",
    "import numpy as np\n",
    "import pandas as pd\n",
    "\n",
    "data_frame = pd.read_csv('/Users/raunaqbahl/Desktop/tutorial_data.csv')\n",
    "#data_frame.head(11)\n",
    "all_watches = data_frame.loc[:, ['documentary movies', 'action movies', 'scifi movies', 'comedy movies', \\\n",
    "                             'horror movies']]\n",
    "vector = all_watches.values\n",
    "category_wise_match = np.sum(vector[0:5, :], axis = 1) #sum along column\n",
    "user_wise_match = np.sum(vector[0:5, :], axis = 0) #sum along row\n",
    "\n",
    "str_list1 = [str(category_wise_match[i]) for i in range(len(category_wise_match))]\n",
    "str_list2 = [str(user_wise_match[i]) for i in range(len(user_wise_match))]\n",
    "\n",
    "for i in range(len(str_list1)):\n",
    "    print(str_list1[i])\n",
    "\n",
    "# max = category_wise_matches.idxmax()\n",
    "# min = category_wise_matches.idxmin()\n",
    "# print(max, min)\n",
    "# mean_age = all_ages.values.mean()\n",
    "# print('The mean age is ' + str(mean_age))"
   ]
  },
  {
   "cell_type": "code",
   "execution_count": 47,
   "metadata": {},
   "outputs": [
    {
     "name": "stdout",
     "output_type": "stream",
     "text": [
      "[[0.67567568 0.32432432]\n",
      " [0.85714286 0.14285714]\n",
      " [0.57142857 0.42857143]\n",
      " [0.33333333 0.66666667]\n",
      " [0.66666667 0.33333333]\n",
      " [0.55555556 0.44444444]\n",
      " [0.31818182 0.68181818]\n",
      " [0.64516129 0.35483871]\n",
      " [0.5        0.5       ]\n",
      " [0.31034483 0.68965517]]\n",
      "<class 'str'>\n"
     ]
    },
    {
     "data": {
      "text/plain": [
       "Text(0, 0.5, 'horror')"
      ]
     },
     "execution_count": 47,
     "metadata": {},
     "output_type": "execute_result"
    },
    {
     "data": {
      "image/png": "[encoded data removed]",
      "text/plain": [
       "<Figure size 432x288 with 1 Axes>"
      ]
     },
     "metadata": {
      "needs_background": "light"
     },
     "output_type": "display_data"
    }
   ],
   "source": [
    "import csv\n",
    "import numpy as np\n",
    "import pandas as pd\n",
    "\n",
    "data_frame = pd.read_csv('/Users/raunaqbahl/Desktop/tutorial_data.csv')\n",
    "#data_frame.head(11)\n",
    "all_watches = data_frame.loc[:, ['comedy movies', \\\n",
    "                             'horror movies']]\n",
    "vectors = all_watches.values\n",
    "vectors_l1 = np.linalg.norm(vectors, ord = 1, axis = 1, keepdims = True)\n",
    "vectors_l1 = np.tile(vectors_l1, (1,2))\n",
    "normalised_vectors = np.divide(vectors, vectors_l1)\n",
    "print(normalised_vectors)\n",
    "\n",
    "x_values, y_values = np.split(normalised_vectors, 2, axis = 1)\n",
    "captions = data_frame['username'].astype(str).values\n",
    "print(type(captions[0]))\n",
    "cluster = plt.scatter(x_values, y_values, marker = 'x', color = 'blue')\n",
    "cluster = plt.gca()\n",
    "\n",
    "for i, name in enumerate(captions):\n",
    "    cluster.annotate(name, (x_values[i] + 0.01, y_values[i] + 0.01), size = 10)\n",
    "plt.xlabel('comedy')\n",
    "plt.ylabel('horror')"
   ]
  },
  {
   "cell_type": "code",
   "execution_count": null,
   "metadata": {},
   "outputs": [],
   "source": []
  },
  {
   "cell_type": "code",
   "execution_count": null,
   "metadata": {},
   "outputs": [],
   "source": []
  }
 ],
 "metadata": {
  "kernelspec": {
   "display_name": "Python 3",
   "language": "python",
   "name": "python3"
  },
  "language_info": {
   "codemirror_mode": {
    "name": "ipython",
    "version": 3
   },
   "file_extension": ".py",
   "mimetype": "text/x-python",
   "name": "python",
   "nbconvert_exporter": "python",
   "pygments_lexer": "ipython3",
   "version": "3.7.1"
  }
 },
 "nbformat": 4,
 "nbformat_minor": 2
}
